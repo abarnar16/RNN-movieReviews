{
 "cells": [
  {
   "cell_type": "markdown",
   "id": "12f245c2-3be6-4b3e-a62a-fd84070affd3",
   "metadata": {},
   "source": [
    "# DELE CA1 PART B: RECURRENT NEURAL NETWORK \n",
    "## Name: Rajarethinam Abarna \n",
    "## Class: DAAA/FT/2B/22 \n",
    "## Admin No: p2415857 "
   ]
  },
  {
   "cell_type": "markdown",
   "id": "1a1b0843-7715-4dcb-afa0-37a293222d5c",
   "metadata": {},
   "source": [
    "# Importing Modules"
   ]
  },
  {
   "cell_type": "code",
   "execution_count": 52,
   "id": "7a95c538-3068-4536-a077-c766fc8afc01",
   "metadata": {},
   "outputs": [],
   "source": [
    "# Core libraries\n",
    "import pandas as pd\n",
    "import numpy as np\n",
    "import re\n",
    "import matplotlib.pyplot as plt\n",
    "import seaborn as sns\n",
    "\n",
    "# Text preprocessing\n",
    "import nltk\n",
    "from nltk.corpus import stopwords\n",
    "from nltk.stem import WordNetLemmatizer\n",
    "from deep_translator import GoogleTranslator\n",
    "\n",
    "# Model development\n",
    "from tensorflow.keras.models import Sequential, load_model\n",
    "from tensorflow.keras.layers import (\n",
    "    Embedding, LSTM, Dense, Dropout, Bidirectional,\n",
    "    GlobalMaxPooling1D, BatchNormalization\n",
    ")\n",
    "from tensorflow.keras.preprocessing.text import Tokenizer\n",
    "from tensorflow.keras.preprocessing.sequence import pad_sequences\n",
    "from tensorflow.keras.callbacks import ModelCheckpoint, ReduceLROnPlateau\n",
    "\n",
    "# Data utilities\n",
    "from sklearn.model_selection import train_test_split\n",
    "from sklearn.utils.class_weight import compute_class_weight\n",
    "\n",
    "# Evaluation metrics\n",
    "from sklearn.metrics import (\n",
    "    confusion_matrix, ConfusionMatrixDisplay,\n",
    "    classification_report, roc_curve, auc\n",
    ")"
   ]
  },
  {
   "cell_type": "markdown",
   "id": "ddb8d3a6-68c8-466d-b71f-c8af024ce2c3",
   "metadata": {},
   "source": [
    "## Loading the dataset"
   ]
  },
  {
   "cell_type": "code",
   "execution_count": 2,
   "id": "f132e41f-d53f-4ac4-90ee-15332d8bf86e",
   "metadata": {},
   "outputs": [],
   "source": [
    "df = pd.read_csv('Movie reviews.csv')"
   ]
  },
  {
   "cell_type": "markdown",
   "id": "0655a42e-a1e2-4738-9126-e97bcb4e3053",
   "metadata": {},
   "source": [
    "# Data exploration"
   ]
  },
  {
   "attachments": {},
   "cell_type": "markdown",
   "id": "2aad8d81-8d7a-4ae4-a029-1e6fa7bd467b",
   "metadata": {},
   "source": [
    "- `df.head()` displays the first few rows to get a quick look at the review content and score values.\n",
    "- `df.columns` helps identify all column names, including any that may need to be removed or cleaned.\n",
    "- `df.shape` shows the total number of rows and columns in the dataset.\n",
    "\n",
    "- The dataset contains 527 rows and 4 columns.\n",
    "- One column (`'Are there ways for you to generate more data? Splitting up sentences, would that help?'`) contains only NaN values and is likely an artifact from import or a misformatted header. This column will be dropped during preprocessing.\n",
    "- Reviews are in different languages, confirming the need for language translation during data cleaning."
   ]
  },
  {
   "cell_type": "code",
   "execution_count": 3,
   "id": "33b5e951-637d-49a3-9c83-62e569fd9c00",
   "metadata": {},
   "outputs": [
    {
     "name": "stdout",
     "output_type": "stream",
     "text": [
      "                                              Review  Score  \\\n",
      "0  Filem ini hebat! Aksi yang mendebarkan dan plo...    0.1   \n",
      "1  Filem ini hebat! Aksi yang mendebarkan dan plo...    0.9   \n",
      "2  Filem ini hebat! Aksi yang mendebarkan dan plo...    0.5   \n",
      "3  Sayang sekali, pelakon tidak memberikan persem...    0.8   \n",
      "4  Jalan cerita yang kompleks dan penuh emosi. Su...    0.2   \n",
      "\n",
      "   Are there ways for you to generate more data? Spliting up sentences, would that help?  \\\n",
      "0                                                NaN                                       \n",
      "1                                                NaN                                       \n",
      "2                                                NaN                                       \n",
      "3                                                NaN                                       \n",
      "4                                                NaN                                       \n",
      "\n",
      "  Language  \n",
      "0    Malay  \n",
      "1    Malay  \n",
      "2    Malay  \n",
      "3    Malay  \n",
      "4    Malay  \n",
      "Index(['Review', 'Score',\n",
      "       'Are there ways for you to generate more data? Spliting up sentences, would that help?',\n",
      "       'Language'],\n",
      "      dtype='object')\n",
      "(527, 4)\n"
     ]
    }
   ],
   "source": [
    "print(df.head())        # Preview first few rows\n",
    "print(df.columns)       # Check column names\n",
    "print(df.shape)         # See number of rows and columns"
   ]
  },
  {
   "cell_type": "markdown",
   "id": "74b2060c-cc72-4092-9916-9adc0f4c8f4c",
   "metadata": {},
   "source": [
    "To further inspect the dataset, I used `df.info()` to view the column data types, non-null counts, and memory usage. The dataset contains 527 entries across 4 columns.\n",
    "\n",
    "- The `'Review'` and `'Language'` columns are complete with 527 non-null entries.\n",
    "- The `'Score'` column has 2 missing values.\n",
    "- The column `'Are there ways for you to generate more data? Splitting up sentences, would that help?'` has 0 non-null values, meaning it's entirely empty and should be dropped.\n",
    "  \n",
    "The missing values were confirmed using `df.isnull().sum()`, which provides a clear count of missing entries per column. These insights will guide the next steps in cleaning, particularly removing the empty column and handling the two missing scores."
   ]
  },
  {
   "cell_type": "code",
   "execution_count": 4,
   "id": "e880ebcc-c787-41af-955c-18ecf099eb9a",
   "metadata": {},
   "outputs": [
    {
     "name": "stdout",
     "output_type": "stream",
     "text": [
      "<class 'pandas.core.frame.DataFrame'>\n",
      "RangeIndex: 527 entries, 0 to 526\n",
      "Data columns (total 4 columns):\n",
      " #   Column                                                                                 Non-Null Count  Dtype  \n",
      "---  ------                                                                                 --------------  -----  \n",
      " 0   Review                                                                                 527 non-null    object \n",
      " 1   Score                                                                                  525 non-null    float64\n",
      " 2   Are there ways for you to generate more data? Spliting up sentences, would that help?  0 non-null      float64\n",
      " 3   Language                                                                               527 non-null    object \n",
      "dtypes: float64(2), object(2)\n",
      "memory usage: 16.6+ KB\n",
      "None\n",
      "\n",
      "Missing values:\n",
      "Review                                                                                     0\n",
      "Score                                                                                      2\n",
      "Are there ways for you to generate more data? Spliting up sentences, would that help?    527\n",
      "Language                                                                                   0\n",
      "dtype: int64\n"
     ]
    }
   ],
   "source": [
    "# Basic structure\n",
    "print(df.info())\n",
    "\n",
    "# Missing values per column\n",
    "print(\"\\nMissing values:\")\n",
    "print(df.isnull().sum())"
   ]
  },
  {
   "cell_type": "markdown",
   "id": "b5175a17-608b-4b31-89e2-ad65b9e63081",
   "metadata": {},
   "source": [
    "### Language Distribution\n",
    "\n",
    "The bar chart below visualizes the distribution of languages present in the dataset. As shown, the majority of reviews are written in English (298), followed by Malay (226). There are also a very small number of reviews in Chinese (2) and Nippon (1).\n",
    "\n",
    "Given that non-English reviews make up a substantial portion of the data—particularly Malay—I decided to translate all non-English reviews into English. This approach minimizes data loss and ensures consistent language input for the model, allowing it to learn from the entire dataset rather than excluding valuable non-English samples.\n"
   ]
  },
  {
   "cell_type": "code",
   "execution_count": 5,
   "id": "0bf6864d-96d2-403a-b5c2-abdc69e1871b",
   "metadata": {},
   "outputs": [
    {
     "name": "stdout",
     "output_type": "stream",
     "text": [
      "\n",
      "Languages in dataset:\n",
      "Language\n",
      "English    298\n",
      "Malay      226\n",
      "Chinese      2\n",
      "Nippon       1\n",
      "Name: count, dtype: int64\n"
     ]
    }
   ],
   "source": [
    "print(\"\\nLanguages in dataset:\")\n",
    "print(df['Language'].value_counts())"
   ]
  },
  {
   "cell_type": "code",
   "execution_count": 6,
   "id": "cd49405d-bbb2-4ad0-b2e6-b151c0a4b2f7",
   "metadata": {},
   "outputs": [
    {
     "data": {
      "image/png": "[encoded data removed]",
      "text/plain": [
       "<Figure size 600x400 with 1 Axes>"
      ]
     },
     "metadata": {},
     "output_type": "display_data"
    }
   ],
   "source": [
    "plt.figure(figsize=(6, 4))\n",
    "sns.countplot(data=df, x='Language', order=df['Language'].value_counts().index)\n",
    "plt.title('Distribution of Languages in Dataset')\n",
    "plt.xlabel('Language')\n",
    "plt.ylabel('Number of Reviews')\n",
    "plt.xticks(rotation=45)\n",
    "plt.tight_layout()\n",
    "plt.show()"
   ]
  },
  {
   "cell_type": "markdown",
   "id": "74d5a22b-ea79-4765-be48-9c9edf8602de",
   "metadata": {},
   "source": [
    "### Score Distribution Analysis\n",
    "\n",
    "The histogram above shows the distribution of review scores in the dataset. It is clear that the dataset is highly imbalanced, with a large concentration of scores clustered between 0.0 and 0.2. This suggests that the majority of reviews are labeled with very low sentiment scores. In contrast, there are relatively few reviews with high scores (above 0.6), leading to an uneven class distribution.\n",
    "\n",
    "This imbalance may bias the model toward predicting lower sentiment classes more frequently. To address this, techniques such as class weighting or data augmentation may be required to improve model performance on underrepresented classes.\n"
   ]
  },
  {
   "cell_type": "code",
   "execution_count": 7,
   "id": "53394918-3c2d-4ea4-aabe-88b765eb65c5",
   "metadata": {},
   "outputs": [
    {
     "data": {
      "image/png": "[encoded data removed]",
      "text/plain": [
       "<Figure size 800x400 with 1 Axes>"
      ]
     },
     "metadata": {},
     "output_type": "display_data"
    }
   ],
   "source": [
    "plt.figure(figsize=(8,4))\n",
    "sns.histplot(df['Score'], bins=20, kde=True)\n",
    "plt.title('Score Distribution')\n",
    "plt.xlabel('Score')\n",
    "plt.ylabel('Frequency')\n",
    "plt.show()"
   ]
  },
  {
   "cell_type": "markdown",
   "id": "553804a5-4d46-4d75-acfb-0ef3c8a6dbc3",
   "metadata": {},
   "source": [
    "# Data Preprocessing"
   ]
  },
  {
   "cell_type": "markdown",
   "id": "3decb823-9d3f-43b5-a962-61169cfa9410",
   "metadata": {},
   "source": [
    "## Data cleaning"
   ]
  },
  {
   "cell_type": "markdown",
   "id": "781856c6-1ff1-49f0-9c7a-b7267d822cd9",
   "metadata": {},
   "source": [
    "### Dropping unnecessary column\n",
    "The third column was dropped because it was unnecessary for the sentiment analysis task. It did not contribute meaningfully to the review content or sentiment label, so removing it helps simplify the dataset and avoid irrelevant features during model training."
   ]
  },
  {
   "cell_type": "code",
   "execution_count": 8,
   "id": "3ba0b201-8d78-441f-bfab-37728a46a595",
   "metadata": {},
   "outputs": [
    {
     "name": "stdout",
     "output_type": "stream",
     "text": [
      "                                              Review  Score Language\n",
      "0  Filem ini hebat! Aksi yang mendebarkan dan plo...    0.1    Malay\n",
      "1  Filem ini hebat! Aksi yang mendebarkan dan plo...    0.9    Malay\n",
      "2  Filem ini hebat! Aksi yang mendebarkan dan plo...    0.5    Malay\n",
      "3  Sayang sekali, pelakon tidak memberikan persem...    0.8    Malay\n",
      "4  Jalan cerita yang kompleks dan penuh emosi. Su...    0.2    Malay\n"
     ]
    }
   ],
   "source": [
    "df.drop(df.columns[2], axis=1, inplace=True)\n",
    "print(df.head())"
   ]
  },
  {
   "cell_type": "markdown",
   "id": "04bdee7a-b09d-4c3a-899c-4ad53142940e",
   "metadata": {},
   "source": [
    "### Dropping duplicate rows\n",
    "To reduce redundancy and ensure that each review contributes only once to the model's learning, I began by identifying duplicate entries in the `'Review'` column. A total of 122 duplicate reviews were found using `df.duplicated()`.\n",
    "\n",
    "I then removed these duplicates using `df.drop_duplicates()` while keeping the first occurrence of each review. After that, I applied a `groupby()` operation on the `'Review'` column and computed the mean score for any remaining duplicate texts. This ensures that if the same review appears with different sentiment scores, its final score reflects the average sentiment, reducing bias and noise in the training data."
   ]
  },
  {
   "cell_type": "code",
   "execution_count": 9,
   "id": "03573360-1279-4c4b-b5cf-62814371facf",
   "metadata": {},
   "outputs": [
    {
     "name": "stdout",
     "output_type": "stream",
     "text": [
      "Number of duplicate reviews: 122\n"
     ]
    }
   ],
   "source": [
    "# Count duplicate reviews\n",
    "num_duplicates = df.duplicated(subset='Review').sum()\n",
    "print(f\"Number of duplicate reviews: {num_duplicates}\")"
   ]
  },
  {
   "cell_type": "code",
   "execution_count": 10,
   "id": "034970df-d924-4bd9-83cc-0db2eb171a7b",
   "metadata": {},
   "outputs": [],
   "source": [
    "df = df.drop_duplicates()"
   ]
  },
  {
   "cell_type": "code",
   "execution_count": 11,
   "id": "4e8034cc-3c79-4fce-9b2b-3fa77f77ab83",
   "metadata": {},
   "outputs": [
    {
     "name": "stdout",
     "output_type": "stream",
     "text": [
      "                                              Review  Score\n",
      "0  A big surprise in the middle of the film! Thri...   0.12\n",
      "1  A big surprise in the plot! Thrilling action t...   0.10\n",
      "2  A cinematic experience that is unforgettable. ...   0.10\n",
      "3  A cinematic marvel! The visuals are breathtaki...   0.08\n",
      "4  A complex yet engaging plot. A major surprise ...   0.06\n"
     ]
    }
   ],
   "source": [
    "df = df.groupby('Review', as_index=False).agg({'Score': 'mean'})\n",
    "print(df.head())"
   ]
  },
  {
   "cell_type": "markdown",
   "id": "55426234-26db-432a-bd70-f2922a363bde",
   "metadata": {},
   "source": [
    "### Translating languages\n",
    "To ensure consistency in the input data and allow the use of English-based language models, each review was translated into English. A try-except block was included to prevent the program from crashing if a translation fails, ensuring robustness in preprocessing."
   ]
  },
  {
   "cell_type": "code",
   "execution_count": 12,
   "id": "741475f8-35a6-46bc-9158-efd0b2689d20",
   "metadata": {},
   "outputs": [
    {
     "name": "stdout",
     "output_type": "stream",
     "text": [
      "                                              Review  Score\n",
      "0  A big surprise in the middle of the film! Thri...   0.12\n",
      "1  A big surprise in the plot! Thrilling action t...   0.10\n",
      "2  A cinematic experience that is unforgettable. ...   0.10\n",
      "3  A cinematic marvel! The visuals are breathtaki...   0.08\n",
      "4  A complex yet engaging plot. A major surprise ...   0.06\n"
     ]
    }
   ],
   "source": [
    "def translate_to_english(text):\n",
    "    try:\n",
    "        return GoogleTranslator(source='auto', target='en').translate(text)\n",
    "    except Exception as e:\n",
    "        return text  # fallback in case of error\n",
    "\n",
    "df['Review'] = df['Review'].apply(lambda x: translate_to_english(str(x)))\n",
    "print(df.head())"
   ]
  },
  {
   "cell_type": "markdown",
   "id": "e7db9b4a-9c3c-4caf-a489-8b47319b87ca",
   "metadata": {},
   "source": [
    "### Lowercasing Text for Consistency\n",
    "Converting all review text to lowercase ensures uniformity in the data. This prevents the model from treating the same word differently due to capitalization (e.g., \"Good\" vs \"good\"), which reduces vocabulary size and improves model generalization and consistency during training."
   ]
  },
  {
   "cell_type": "code",
   "execution_count": 13,
   "id": "68445f07-b057-46b0-9a5a-dcc330a32bb5",
   "metadata": {},
   "outputs": [
    {
     "name": "stdout",
     "output_type": "stream",
     "text": [
      "                                              Review  Score\n",
      "0  a big surprise in the middle of the film! thri...   0.12\n",
      "1  a big surprise in the plot! thrilling action t...   0.10\n",
      "2  a cinematic experience that is unforgettable. ...   0.10\n",
      "3  a cinematic marvel! the visuals are breathtaki...   0.08\n",
      "4  a complex yet engaging plot. a major surprise ...   0.06\n"
     ]
    }
   ],
   "source": [
    "df['Review'] = df['Review'].str.lower()\n",
    "print(df.head())"
   ]
  },
  {
   "cell_type": "markdown",
   "id": "e264f9e7-62d9-4d94-83ef-149147859988",
   "metadata": {},
   "source": [
    "### Removing punctuation\n",
    "\n",
    "In this step, all punctuation marks, numbers, and special characters were removed from the review text using a regular expression — with one important exception: full stops (`.`) were preserved. This cleaning approach ensures that the text remains free of noisy characters that don't contribute meaningful value to sentiment analysis, such as symbols or digits.\n",
    "\n",
    "However, full stops were intentionally kept in the text to retain sentence boundaries. This is important because the reviews will later be split into individual sentences for sentence-level analysis or augmentation."
   ]
  },
  {
   "cell_type": "code",
   "execution_count": 14,
   "id": "f65fd892-f775-4ba9-b12f-3cc474032f38",
   "metadata": {},
   "outputs": [
    {
     "name": "stdout",
     "output_type": "stream",
     "text": [
      "                                              Review  Score\n",
      "0  a big surprise in the middle of the film thril...   0.12\n",
      "1  a big surprise in the plot thrilling action th...   0.10\n",
      "2  a cinematic experience that is unforgettable. ...   0.10\n",
      "3  a cinematic marvel the visuals are breathtakin...   0.08\n",
      "4  a complex yet engaging plot. a major surprise ...   0.06\n"
     ]
    }
   ],
   "source": [
    "def clean_text(text):\n",
    "    # Keep only letters, spaces, and fullstops\n",
    "    text = re.sub(r'[^a-zA-Z\\s\\.]', '', text)\n",
    "    return text\n",
    "\n",
    "df['Review'] = df['Review'].apply(clean_text)\n",
    "print(df.head())"
   ]
  },
  {
   "cell_type": "markdown",
   "id": "158538dc-cf70-414c-84dc-24ccbcb29780",
   "metadata": {},
   "source": [
    "### Removing Common Words to Focus on Sentiment\n",
    "Stopwords are common words like \"the\", \"is\", \"and\", and \"in\" that frequently appear in text but typically do not carry significant meaning, especially in sentiment analysis. Removing these words helps reduce noise in the data and allows the model to focus on the most informative and sentiment-relevant terms, improving its ability to distinguish between positive and negative reviews."
   ]
  },
  {
   "cell_type": "code",
   "execution_count": 15,
   "id": "655cb071-734c-4494-9255-4962b0b5b10b",
   "metadata": {},
   "outputs": [
    {
     "name": "stdout",
     "output_type": "stream",
     "text": [
      "                                              Review  Score\n",
      "0          big surprise middle film thrilling action   0.12\n",
      "1     big surprise plot thrilling action throughout.   0.10\n",
      "2   cinematic experience unforgettable. im impressed   0.10\n",
      "3  cinematic marvel visuals breathtaking narrativ...   0.08\n",
      "4  complex yet engaging plot. major surprise awai...   0.06\n"
     ]
    }
   ],
   "source": [
    "stop_words = set(stopwords.words('english'))\n",
    "\n",
    "def remove_stopwords(text):\n",
    "    return ' '.join([word for word in text.split() if word not in stop_words])\n",
    "\n",
    "df['Review'] = df['Review'].apply(remove_stopwords)\n",
    "print(df.head())"
   ]
  },
  {
   "cell_type": "markdown",
   "id": "20fa48ee-39b2-421b-8666-ce1fdc447c17",
   "metadata": {},
   "source": [
    "### Lemmatization\n",
    "\n",
    "I used a simple lemmatization method by treating all words as verbs. This reduces common word forms (like \"running\" or \"played\") to their base form (\"run\", \"play\") without adding complexity. It keeps the preprocessing fast and effective, helping to reduce vocabulary size and improve consistency without needing full POS tagging."
   ]
  },
  {
   "cell_type": "code",
   "execution_count": 16,
   "id": "84668757-4011-4e31-807a-a3a11c9f389e",
   "metadata": {},
   "outputs": [
    {
     "name": "stdout",
     "output_type": "stream",
     "text": [
      "                                              Review  Score\n",
      "0             big surprise middle film thrill action   0.12\n",
      "1        big surprise plot thrill action throughout.   0.10\n",
      "2     cinematic experience unforgettable. im impress   0.10\n",
      "3  cinematic marvel visuals breathtaking narrativ...   0.08\n",
      "4  complex yet engage plot. major surprise await end   0.06\n"
     ]
    }
   ],
   "source": [
    "lemmatizer = WordNetLemmatizer()\n",
    "\n",
    "def lemmatize_text(text):\n",
    "    return ' '.join([lemmatizer.lemmatize(word, pos='v') for word in text.split()])\n",
    "\n",
    "df['Review'] = df['Review'].apply(lemmatize_text)\n",
    "print(df.head())"
   ]
  },
  {
   "cell_type": "markdown",
   "id": "4389718f-cdab-444c-903b-82351b8a653f",
   "metadata": {},
   "source": [
    "## Feature engineering"
   ]
  },
  {
   "cell_type": "markdown",
   "id": "82974e54-ebcd-42b0-8221-b865f60e0cb0",
   "metadata": {},
   "source": [
    "### Choosing Binary Classification \n",
    "\n",
    "Initially, I considered multiple approaches for handling the sentiment scores, which range from 0 to 1. Regression was ruled out early because it attempts to predict an exact score — which is difficult to interpret in a sentiment context and highly sensitive to small variations in input. Since review sentiment is better represented categorically (e.g., good vs bad), regression is not a good fit for this task.\n",
    "\n",
    "I then explored a multi-class classification approach by dividing the score into five sentiment categories (Very Bad, Bad, Neutral, Good, Very Good). However, the model consistently struggled to accurately identify the minority classes. This was likely due to class imbalance, where certain labels had significantly fewer examples than others, causing the model to favor majority classes during training. Even after applying class weighting, performance remained inconsistent.\n",
    "\n",
    "Given these limitations, I opted for a binary classification approach — distinguishing between \"good\" and \"bad\" sentiment. This simplifies the learning task and aligns well with the skewed distribution in the dataset. Interestingly, in this dataset, **lower scores actually indicate more positive sentiment**, while higher scores correspond to more negative reviews.\n",
    "\n",
    "To address this, I used a simple function to convert the continuous score into binary labels:  \n",
    "- Scores ≤ 0.5 are labeled as `0` (positive/good)  \n",
    "- Scores > 0.5 are labeled as `1` (negative/bad)"
   ]
  },
  {
   "cell_type": "code",
   "execution_count": 17,
   "id": "67fbb21b-8b7c-4d82-a63f-12029c834c29",
   "metadata": {},
   "outputs": [
    {
     "name": "stdout",
     "output_type": "stream",
     "text": [
      "Label\n",
      "0    308\n",
      "1     97\n",
      "Name: count, dtype: int64\n",
      "                                              Review  Score  Label\n",
      "0             big surprise middle film thrill action   0.12      0\n",
      "1        big surprise plot thrill action throughout.   0.10      0\n",
      "2     cinematic experience unforgettable. im impress   0.10      0\n",
      "3  cinematic marvel visuals breathtaking narrativ...   0.08      0\n",
      "4  complex yet engage plot. major surprise await end   0.06      0\n"
     ]
    }
   ],
   "source": [
    "def score_to_label(score):\n",
    "    if score <= 0.5:\n",
    "        return 0  # good\n",
    "    else:\n",
    "        return 1  # bad\n",
    "\n",
    "df['Label'] = df['Score'].apply(score_to_label)\n",
    "print(df['Label'].value_counts())\n",
    "print(df.head())"
   ]
  },
  {
   "cell_type": "markdown",
   "id": "6d7421ca-3005-41d7-b468-77dfd6224c24",
   "metadata": {},
   "source": [
    "###  Train-Validation-Test Split\n",
    "\n",
    "At this stage, I split the dataset into training, validation, and test sets. This is done before any sentence splitting or tokenization to ensure the model evaluation remains fair and unbiased. By isolating `X_train` early, I can later expand it sentence-by-sentence without affecting the validation or test data.\n",
    "\n",
    "Additionally, splitting now allows me to fit the tokenizer and any future preprocessing pipeline **only on the training data**, which is a best practice in machine learning. This prevents information from the validation or test sets from leaking into the model during training.\n"
   ]
  },
  {
   "cell_type": "code",
   "execution_count": 18,
   "id": "a10744c6-3476-4c5e-95b2-e13de50eb6a3",
   "metadata": {},
   "outputs": [
    {
     "name": "stdout",
     "output_type": "stream",
     "text": [
      "Train: (283,), Validation: (61,), Test: (61,)\n"
     ]
    }
   ],
   "source": [
    "# Define features and labels\n",
    "X = df['Review']           # Features (text)\n",
    "y = df['Label'].astype(int)  # Target (0 or 1)\n",
    "\n",
    "X_train, X_temp, y_train, y_temp = train_test_split(\n",
    "    X, y, test_size=0.3, random_state=1, stratify=y)\n",
    "\n",
    "X_val, X_test, y_val, y_test = train_test_split(\n",
    "    X_temp, y_temp, test_size=0.5, random_state=1, stratify=y_temp)\n",
    "\n",
    "# Confirm shapes\n",
    "print(f\"Train: {X_train.shape}, Validation: {X_val.shape}, Test: {X_test.shape}\")"
   ]
  },
  {
   "cell_type": "markdown",
   "id": "2f0667e3-e147-4db2-a99a-663762b86c0a",
   "metadata": {},
   "source": [
    "###  Expanding Training Data by Splitting Sentences\n",
    "\n",
    "To increase the volume and granularity of training data, I split each review in `X_train` into individual sentences using full stops. This helps the model learn from shorter, more focused text segments rather than relying solely on full-length reviews, which may contain mixed or diluted sentiment.\n",
    "\n",
    "Each sentence inherits the original review’s sentiment label, ensuring consistency while providing the model with a wider variety of training examples. This approach is especially beneficial in deep learning, where more data can lead to better generalization. It also aligns with earlier preprocessing, where full stops were preserved specifically to support this step.\n"
   ]
  },
  {
   "cell_type": "code",
   "execution_count": 19,
   "id": "e1625c6f-fca6-4149-9694-ac6d802b67ad",
   "metadata": {},
   "outputs": [
    {
     "name": "stdout",
     "output_type": "stream",
     "text": [
      "Original training samples: 283\n",
      "Expanded training samples: 505\n"
     ]
    }
   ],
   "source": [
    "# Initialize lists to hold expanded data\n",
    "expanded_X_train = []\n",
    "expanded_y_train = []\n",
    "\n",
    "# Loop through each review and its label in training data\n",
    "for review, label in zip(X_train, y_train):\n",
    "    # Split the review into sentences using full stops\n",
    "    sentences = [s.strip() for s in review.split('.') if s.strip()]\n",
    "    \n",
    "    # Add each sentence and repeat the label\n",
    "    expanded_X_train.extend(sentences)\n",
    "    expanded_y_train.extend([label] * len(sentences))\n",
    "\n",
    "# Confirm results\n",
    "print(f\"Original training samples: {len(X_train)}\")\n",
    "print(f\"Expanded training samples: {len(expanded_X_train)}\")"
   ]
  },
  {
   "cell_type": "markdown",
   "id": "000ff33a-fcf8-4507-a539-2c44f63226c5",
   "metadata": {},
   "source": [
    "### Tokenization and Padding Pipeline\n",
    "\n",
    "After expanding the training data by splitting reviews into individual sentences, I used a custom `TextPreprocessingPipeline` to tokenize and pad the text. This pipeline performs three key steps:\n",
    "\n",
    "1. **Tokenizer Fitting:** The tokenizer is fit only on the sentence-level `X_train` data (`expanded_X_train`), ensuring that the model vocabulary is learned exclusively from training samples and preventing data leakage.\n",
    "\n",
    "2. **Text to Sequence Conversion:** Each sentence or review is converted into a sequence of integers based on the tokenizer's word index.\n",
    "\n",
    "3. **Padding:** All sequences are padded or truncated to a fixed length (`max_len=500`) to ensure uniform input shape for the model. Padding is done at the end (`post`) to preserve sentence beginnings.\n",
    "\n",
    "Validation and test sets are transformed using the same tokenizer, but not split into sentences, preserving their structure for fair evaluation. This approach increases the amount of training data, improves learning from shorter contexts, and ensures consistency across all datasets."
   ]
  },
  {
   "cell_type": "code",
   "execution_count": 26,
   "id": "ae06b577-a224-4837-a3ec-67dd1579e3fd",
   "metadata": {},
   "outputs": [],
   "source": [
    "# Custom preprocessing pipeline\n",
    "class TextPreprocessingPipeline:\n",
    "    def __init__(self, num_words=5000, max_len=500, oov_token=\"<OOV>\"):\n",
    "        self.tokenizer = Tokenizer(num_words=num_words, oov_token=oov_token)\n",
    "        self.max_len = max_len\n",
    "\n",
    "    def fit(self, texts):\n",
    "        \"\"\"Learn vocabulary from training data.\"\"\"\n",
    "        self.tokenizer.fit_on_texts(texts)\n",
    "\n",
    "    def transform(self, texts):\n",
    "        \"\"\"Convert texts to padded sequences.\"\"\"\n",
    "        sequences = self.tokenizer.texts_to_sequences(texts)\n",
    "        return pad_sequences(sequences, maxlen=self.max_len, padding='post', truncating='post')\n",
    "\n",
    "    def fit_transform(self, texts):\n",
    "        \"\"\"Fit tokenizer and return padded sequences.\"\"\"\n",
    "        self.fit(texts)\n",
    "        return self.transform(texts)\n",
    "\n",
    "# Initialize the pipeline\n",
    "pipeline = TextPreprocessingPipeline(num_words=5000, max_len=500)\n",
    "\n",
    "# Fit and transform training data (sentence-split)\n",
    "X_train_pad = pipeline.fit_transform(expanded_X_train)\n",
    "\n",
    "# Transform validation and test sets (not sentence-split)\n",
    "X_val_pad = pipeline.transform(X_val)\n",
    "X_test_pad = pipeline.transform(X_test)\n",
    "expanded_y_train = np.array(expanded_y_train)"
   ]
  },
  {
   "cell_type": "markdown",
   "id": "d62157c7-0012-45a3-b7ca-bfb56a9983fb",
   "metadata": {},
   "source": [
    "### Addressing Class Imbalance with Class Weights\n",
    "\n",
    "To handle the imbalance between positive and negative sentiment labels, I used `compute_class_weight()` from `sklearn` to calculate weights inversely proportional to class frequencies. This helps the model give more attention to the minority class during training.\n",
    "\n",
    "The `balanced` mode ensures that the weight assigned to each class is:\n",
    "\\[\n",
    "\\text{weight} = \\frac{\\text{total samples}}{\\text{number of classes} \\times \\text{samples in class}}\n",
    "\\]\n",
    "\n",
    "The result is a dictionary of weights:\n",
    "- Class `0` (majority): lower weight\n",
    "- Class `1` (minority): higher weight\n",
    "\n",
    "These weights are passed to the model during training using the `class_weight` parameter in `model.fit()`, helping to reduce bias toward the more frequent class.\n"
   ]
  },
  {
   "cell_type": "code",
   "execution_count": 23,
   "id": "baf1bae5-27e9-4278-b152-23dce76afa9d",
   "metadata": {},
   "outputs": [
    {
     "name": "stdout",
     "output_type": "stream",
     "text": [
      "{0: 0.6574675324675324, 1: 2.0876288659793816}\n"
     ]
    }
   ],
   "source": [
    "# addressing imbalance\n",
    "# Compute weights\n",
    "class_weights = compute_class_weight(\n",
    "    class_weight='balanced',\n",
    "    classes=np.unique(df['Label']),\n",
    "    y=df['Label']\n",
    ")\n",
    "\n",
    "# Convert to dictionary\n",
    "class_weights = dict(enumerate(class_weights))\n",
    "print(class_weights)"
   ]
  },
  {
   "cell_type": "markdown",
   "id": "e3eb4d87-590b-41bf-a5ba-2a6a62098024",
   "metadata": {},
   "source": [
    "# Building Model & Model Improvement \n",
    "\n",
    "During experimentation, I initially tested **simpler models** consisting of just an Embedding layer followed by a single LSTM or Dense layer. These lightweight models trained quickly but achieved only around **70% accuracy**, likely due to their limited ability to capture complex patterns in sentence structure and semantics.\n",
    "\n",
    "I also tried **deeper models** with stacked LSTM layers and multiple Dense layers. While these more complex architectures showed some improvement, they tended to plateau around **80% accuracy**. This was likely due to overfitting or vanishing gradients in deeper LSTM layers, especially with limited or imbalanced data.\n",
    "\n",
    "The selected model architecture was the best-performing configuration, achieving the **highest test accuracy (>90%)**.\n",
    "\n",
    "* **Embedding Layer (128 dims):** Converts input tokens into dense vector representations. A larger embedding dimension allows richer semantic learning.\n",
    "* **Bidirectional LSTM (64 units):** Processes text in both directions, capturing context from past and future words.\n",
    "* **GlobalMaxPooling1D:** Compresses LSTM outputs into a fixed-size vector by capturing the most important feature from each sequence. Reduces complexity and helps prevent overfitting.\n",
    "* **Dense Layer (64, ReLU):** Adds non-linear transformation capacity to capture deeper patterns from the pooled sequence.\n",
    "* **Dropout (0.4):** Regularizes the model by randomly disabling neurons during training to reduce overfitting.\n",
    "* **Output Layer (Sigmoid):** Outputs a probability between 0 and 1 for binary classification (Good/Bad sentiment).\n",
    "\n",
    "This configuration balances model expressiveness and generalization, making it highly effective for sentence-level binary sentiment analysis.\n",
    "\n",
    "To improve model training and prevent overfitting, the following callbacks were used:\n",
    "\n",
    "ModelCheckpoint: Automatically saves the model's best weights based on validation accuracy, ensuring the best-performing version is preserved.\n",
    "\n",
    "ReduceLROnPlateau: Monitors validation accuracy and reduces the learning rate when it stops improving, helping the model converge better and avoid getting stuck in local minima."
   ]
  },
  {
   "cell_type": "code",
   "execution_count": 43,
   "id": "16ef1113-c489-44f6-90d9-4cdafda7793b",
   "metadata": {},
   "outputs": [
    {
     "name": "stdout",
     "output_type": "stream",
     "text": [
      "Model: \"sequential_6\"\n",
      "_________________________________________________________________\n",
      " Layer (type)                Output Shape              Param #   \n",
      "=================================================================\n",
      " embedding_6 (Embedding)     (None, 500, 128)          640000    \n",
      "                                                                 \n",
      " bidirectional_6 (Bidirectio  (None, 500, 128)         98816     \n",
      " nal)                                                            \n",
      "                                                                 \n",
      " global_max_pooling1d_5 (Glo  (None, 128)              0         \n",
      " balMaxPooling1D)                                                \n",
      "                                                                 \n",
      " dense_11 (Dense)            (None, 64)                8256      \n",
      "                                                                 \n",
      " dropout_6 (Dropout)         (None, 64)                0         \n",
      "                                                                 \n",
      " dense_12 (Dense)            (None, 1)                 65        \n",
      "                                                                 \n",
      "=================================================================\n",
      "Total params: 747,137\n",
      "Trainable params: 747,137\n",
      "Non-trainable params: 0\n",
      "_________________________________________________________________\n"
     ]
    }
   ],
   "source": [
    "model = Sequential()\n",
    "\n",
    "# Embedding layer with more expressive word vectors\n",
    "model.add(Embedding(input_dim=5000, output_dim=128, input_length=500))\n",
    "\n",
    "# Bidirectional LSTM with return_sequences=True to allow pooling\n",
    "model.add(Bidirectional(LSTM(64, return_sequences=True)))\n",
    "\n",
    "# Global max pooling to reduce dimensionality and capture key features\n",
    "model.add(GlobalMaxPooling1D())\n",
    "\n",
    "# Dense layer for non-linear transformation\n",
    "model.add(Dense(64, activation='relu'))\n",
    "\n",
    "# Dropout to prevent overfitting\n",
    "model.add(Dropout(0.4))\n",
    "\n",
    "# Output layer for binary classification\n",
    "model.add(Dense(1, activation='sigmoid'))\n",
    "\n",
    "\n",
    "checkpoint = ModelCheckpoint(\n",
    "    filepath='RNN_best_weights.h5',\n",
    "    monitor='val_accuracy',\n",
    "    save_best_only=True,\n",
    "    save_weights_only=True,\n",
    "    mode='max',\n",
    "    verbose=1\n",
    ")\n",
    "\n",
    "reduce_lr = ReduceLROnPlateau(monitor='val_accuracy', factor=0.5, patience=4, min_lr=1e-5, verbose=1)\n",
    "\n",
    "# Compile the model\n",
    "model.compile(\n",
    "    loss='binary_crossentropy',\n",
    "    optimizer='adam',\n",
    "    metrics=['accuracy']\n",
    ")\n",
    "\n",
    "model.summary()"
   ]
  },
  {
   "cell_type": "markdown",
   "id": "68eed35b-2c56-4ad3-9cc5-a6658b9e0fb8",
   "metadata": {},
   "source": [
    "# Training Model\n",
    "\n",
    "The model was trained using padded sequences generated from sentence-split training data (`X_train_pad`) and their corresponding binary labels (`expanded_y_train`). A validation set (`X_val_pad`, `y_val`) was used to monitor the model's generalization performance during training. I trained the model for 40 epochs with a batch size of 64 to balance learning speed and gradient stability. To address class imbalance, I applied `class_weight`, which penalizes the model more for misclassifying underrepresented classes. Two callbacks were included: `ModelCheckpoint` to save the model’s best weights based on validation accuracy, and `ReduceLROnPlateau` to dynamically reduce the learning rate if validation accuracy plateaued, improving convergence. This setup ensures that training remains robust, well-regularized, and tuned for optimal performance.\n"
   ]
  },
  {
   "cell_type": "code",
   "execution_count": 44,
   "id": "b2a6a5b6-53c6-4ea7-a269-c2226d1bcf98",
   "metadata": {},
   "outputs": [
    {
     "name": "stdout",
     "output_type": "stream",
     "text": [
      "Epoch 1/40\n",
      "8/8 [==============================] - ETA: 0s - loss: 0.6933 - accuracy: 0.3386\n",
      "Epoch 1: val_accuracy improved from -inf to 0.75410, saving model to RNN_best_weights.h5\n",
      "8/8 [==============================] - 11s 598ms/step - loss: 0.6933 - accuracy: 0.3386 - val_loss: 0.6836 - val_accuracy: 0.7541 - lr: 0.0010\n",
      "Epoch 2/40\n",
      "8/8 [==============================] - ETA: 0s - loss: 0.6851 - accuracy: 0.6475\n",
      "Epoch 2: val_accuracy improved from 0.75410 to 0.80328, saving model to RNN_best_weights.h5\n",
      "8/8 [==============================] - 3s 391ms/step - loss: 0.6851 - accuracy: 0.6475 - val_loss: 0.6734 - val_accuracy: 0.8033 - lr: 0.0010\n",
      "Epoch 3/40\n",
      "8/8 [==============================] - ETA: 0s - loss: 0.6663 - accuracy: 0.7861\n",
      "Epoch 3: val_accuracy improved from 0.80328 to 0.85246, saving model to RNN_best_weights.h5\n",
      "8/8 [==============================] - 3s 397ms/step - loss: 0.6663 - accuracy: 0.7861 - val_loss: 0.6352 - val_accuracy: 0.8525 - lr: 0.0010\n",
      "Epoch 4/40\n",
      "8/8 [==============================] - ETA: 0s - loss: 0.6271 - accuracy: 0.8297\n",
      "Epoch 4: val_accuracy did not improve from 0.85246\n",
      "8/8 [==============================] - 3s 377ms/step - loss: 0.6271 - accuracy: 0.8297 - val_loss: 0.5673 - val_accuracy: 0.8197 - lr: 0.0010\n",
      "Epoch 5/40\n",
      "8/8 [==============================] - ETA: 0s - loss: 0.5361 - accuracy: 0.8535\n",
      "Epoch 5: val_accuracy did not improve from 0.85246\n",
      "8/8 [==============================] - 3s 378ms/step - loss: 0.5361 - accuracy: 0.8535 - val_loss: 0.4242 - val_accuracy: 0.8361 - lr: 0.0010\n",
      "Epoch 6/40\n",
      "8/8 [==============================] - ETA: 0s - loss: 0.3738 - accuracy: 0.8871\n",
      "Epoch 6: val_accuracy did not improve from 0.85246\n",
      "8/8 [==============================] - 3s 382ms/step - loss: 0.3738 - accuracy: 0.8871 - val_loss: 0.2835 - val_accuracy: 0.8361 - lr: 0.0010\n",
      "Epoch 7/40\n",
      "8/8 [==============================] - ETA: 0s - loss: 0.2443 - accuracy: 0.9228\n",
      "Epoch 7: val_accuracy improved from 0.85246 to 0.88525, saving model to RNN_best_weights.h5\n",
      "8/8 [==============================] - 3s 395ms/step - loss: 0.2443 - accuracy: 0.9228 - val_loss: 0.2225 - val_accuracy: 0.8852 - lr: 0.0010\n",
      "Epoch 8/40\n",
      "8/8 [==============================] - ETA: 0s - loss: 0.1541 - accuracy: 0.9287\n",
      "Epoch 8: val_accuracy improved from 0.88525 to 0.93443, saving model to RNN_best_weights.h5\n",
      "8/8 [==============================] - 3s 397ms/step - loss: 0.1541 - accuracy: 0.9287 - val_loss: 0.1365 - val_accuracy: 0.9344 - lr: 0.0010\n",
      "Epoch 9/40\n",
      "8/8 [==============================] - ETA: 0s - loss: 0.0820 - accuracy: 0.9782\n",
      "Epoch 9: val_accuracy did not improve from 0.93443\n",
      "8/8 [==============================] - 3s 380ms/step - loss: 0.0820 - accuracy: 0.9782 - val_loss: 0.1306 - val_accuracy: 0.9344 - lr: 0.0010\n",
      "Epoch 10/40\n",
      "8/8 [==============================] - ETA: 0s - loss: 0.0478 - accuracy: 0.9782\n",
      "Epoch 10: val_accuracy did not improve from 0.93443\n",
      "8/8 [==============================] - 3s 386ms/step - loss: 0.0478 - accuracy: 0.9782 - val_loss: 0.1821 - val_accuracy: 0.9180 - lr: 0.0010\n",
      "Epoch 11/40\n",
      "8/8 [==============================] - ETA: 0s - loss: 0.7400 - accuracy: 0.8911\n",
      "Epoch 11: val_accuracy did not improve from 0.93443\n",
      "8/8 [==============================] - 3s 376ms/step - loss: 0.7400 - accuracy: 0.8911 - val_loss: 0.5220 - val_accuracy: 0.8852 - lr: 0.0010\n",
      "Epoch 12/40\n",
      "8/8 [==============================] - ETA: 0s - loss: 0.2262 - accuracy: 0.9366\n",
      "Epoch 12: val_accuracy improved from 0.93443 to 0.96721, saving model to RNN_best_weights.h5\n",
      "8/8 [==============================] - 3s 393ms/step - loss: 0.2262 - accuracy: 0.9366 - val_loss: 0.1044 - val_accuracy: 0.9672 - lr: 0.0010\n",
      "Epoch 13/40\n",
      "8/8 [==============================] - ETA: 0s - loss: 0.1007 - accuracy: 0.9782\n",
      "Epoch 13: val_accuracy did not improve from 0.96721\n",
      "8/8 [==============================] - 3s 375ms/step - loss: 0.1007 - accuracy: 0.9782 - val_loss: 0.0984 - val_accuracy: 0.9508 - lr: 0.0010\n",
      "Epoch 14/40\n",
      "8/8 [==============================] - ETA: 0s - loss: 0.0785 - accuracy: 0.9782\n",
      "Epoch 14: val_accuracy did not improve from 0.96721\n",
      "8/8 [==============================] - 3s 382ms/step - loss: 0.0785 - accuracy: 0.9782 - val_loss: 0.1208 - val_accuracy: 0.9180 - lr: 0.0010\n",
      "Epoch 15/40\n",
      "8/8 [==============================] - ETA: 0s - loss: 0.0419 - accuracy: 0.9881\n",
      "Epoch 15: val_accuracy did not improve from 0.96721\n",
      "8/8 [==============================] - 3s 375ms/step - loss: 0.0419 - accuracy: 0.9881 - val_loss: 0.0976 - val_accuracy: 0.9344 - lr: 0.0010\n",
      "Epoch 16/40\n",
      "8/8 [==============================] - ETA: 0s - loss: 0.0322 - accuracy: 0.9881\n",
      "Epoch 16: val_accuracy did not improve from 0.96721\n",
      "\n",
      "Epoch 16: ReduceLROnPlateau reducing learning rate to 0.0005000000237487257.\n",
      "8/8 [==============================] - 3s 378ms/step - loss: 0.0322 - accuracy: 0.9881 - val_loss: 0.1167 - val_accuracy: 0.9180 - lr: 0.0010\n",
      "Epoch 17/40\n",
      "8/8 [==============================] - ETA: 0s - loss: 0.0265 - accuracy: 0.9881\n",
      "Epoch 17: val_accuracy did not improve from 0.96721\n",
      "8/8 [==============================] - 3s 381ms/step - loss: 0.0265 - accuracy: 0.9881 - val_loss: 0.1244 - val_accuracy: 0.9180 - lr: 5.0000e-04\n",
      "Epoch 18/40\n",
      "8/8 [==============================] - ETA: 0s - loss: 0.0284 - accuracy: 0.9881\n",
      "Epoch 18: val_accuracy did not improve from 0.96721\n",
      "8/8 [==============================] - 3s 374ms/step - loss: 0.0284 - accuracy: 0.9881 - val_loss: 0.1118 - val_accuracy: 0.9180 - lr: 5.0000e-04\n",
      "Epoch 19/40\n",
      "8/8 [==============================] - ETA: 0s - loss: 0.0232 - accuracy: 0.9901\n",
      "Epoch 19: val_accuracy did not improve from 0.96721\n",
      "8/8 [==============================] - 3s 379ms/step - loss: 0.0232 - accuracy: 0.9901 - val_loss: 0.0933 - val_accuracy: 0.9508 - lr: 5.0000e-04\n",
      "Epoch 20/40\n",
      "8/8 [==============================] - ETA: 0s - loss: 0.0251 - accuracy: 0.9881\n",
      "Epoch 20: val_accuracy did not improve from 0.96721\n",
      "\n",
      "Epoch 20: ReduceLROnPlateau reducing learning rate to 0.0002500000118743628.\n",
      "8/8 [==============================] - 3s 377ms/step - loss: 0.0251 - accuracy: 0.9881 - val_loss: 0.0875 - val_accuracy: 0.9508 - lr: 5.0000e-04\n",
      "Epoch 21/40\n",
      "8/8 [==============================] - ETA: 0s - loss: 0.0188 - accuracy: 0.9960\n",
      "Epoch 21: val_accuracy did not improve from 0.96721\n",
      "8/8 [==============================] - 3s 386ms/step - loss: 0.0188 - accuracy: 0.9960 - val_loss: 0.0899 - val_accuracy: 0.9508 - lr: 2.5000e-04\n",
      "Epoch 22/40\n",
      "8/8 [==============================] - ETA: 0s - loss: 0.0221 - accuracy: 0.9921\n",
      "Epoch 22: val_accuracy did not improve from 0.96721\n",
      "8/8 [==============================] - 3s 390ms/step - loss: 0.0221 - accuracy: 0.9921 - val_loss: 0.0952 - val_accuracy: 0.9508 - lr: 2.5000e-04\n",
      "Epoch 23/40\n",
      "8/8 [==============================] - ETA: 0s - loss: 0.0202 - accuracy: 0.9921\n",
      "Epoch 23: val_accuracy did not improve from 0.96721\n",
      "8/8 [==============================] - 3s 379ms/step - loss: 0.0202 - accuracy: 0.9921 - val_loss: 0.0971 - val_accuracy: 0.9508 - lr: 2.5000e-04\n",
      "Epoch 24/40\n",
      "8/8 [==============================] - ETA: 0s - loss: 0.0182 - accuracy: 0.9921\n",
      "Epoch 24: val_accuracy did not improve from 0.96721\n",
      "\n",
      "Epoch 24: ReduceLROnPlateau reducing learning rate to 0.0001250000059371814.\n",
      "8/8 [==============================] - 3s 380ms/step - loss: 0.0182 - accuracy: 0.9921 - val_loss: 0.0976 - val_accuracy: 0.9508 - lr: 2.5000e-04\n",
      "Epoch 25/40\n",
      "8/8 [==============================] - ETA: 0s - loss: 0.0163 - accuracy: 0.9921\n",
      "Epoch 25: val_accuracy did not improve from 0.96721\n",
      "8/8 [==============================] - 3s 381ms/step - loss: 0.0163 - accuracy: 0.9921 - val_loss: 0.0965 - val_accuracy: 0.9508 - lr: 1.2500e-04\n",
      "Epoch 26/40\n",
      "8/8 [==============================] - ETA: 0s - loss: 0.0176 - accuracy: 0.9941\n",
      "Epoch 26: val_accuracy did not improve from 0.96721\n",
      "8/8 [==============================] - 3s 383ms/step - loss: 0.0176 - accuracy: 0.9941 - val_loss: 0.0965 - val_accuracy: 0.9508 - lr: 1.2500e-04\n",
      "Epoch 27/40\n",
      "8/8 [==============================] - ETA: 0s - loss: 0.0159 - accuracy: 0.9921\n",
      "Epoch 27: val_accuracy did not improve from 0.96721\n",
      "8/8 [==============================] - 3s 378ms/step - loss: 0.0159 - accuracy: 0.9921 - val_loss: 0.0970 - val_accuracy: 0.9508 - lr: 1.2500e-04\n",
      "Epoch 28/40\n",
      "8/8 [==============================] - ETA: 0s - loss: 0.0178 - accuracy: 0.9901\n",
      "Epoch 28: val_accuracy did not improve from 0.96721\n",
      "\n",
      "Epoch 28: ReduceLROnPlateau reducing learning rate to 6.25000029685907e-05.\n",
      "8/8 [==============================] - 3s 378ms/step - loss: 0.0178 - accuracy: 0.9901 - val_loss: 0.0987 - val_accuracy: 0.9508 - lr: 1.2500e-04\n",
      "Epoch 29/40\n",
      "8/8 [==============================] - ETA: 0s - loss: 0.0157 - accuracy: 0.9941\n",
      "Epoch 29: val_accuracy did not improve from 0.96721\n",
      "8/8 [==============================] - 3s 379ms/step - loss: 0.0157 - accuracy: 0.9941 - val_loss: 0.0985 - val_accuracy: 0.9508 - lr: 6.2500e-05\n",
      "Epoch 30/40\n",
      "8/8 [==============================] - ETA: 0s - loss: 0.0155 - accuracy: 0.9941\n",
      "Epoch 30: val_accuracy did not improve from 0.96721\n",
      "8/8 [==============================] - 3s 385ms/step - loss: 0.0155 - accuracy: 0.9941 - val_loss: 0.0993 - val_accuracy: 0.9508 - lr: 6.2500e-05\n",
      "Epoch 31/40\n",
      "8/8 [==============================] - ETA: 0s - loss: 0.0169 - accuracy: 0.9960\n",
      "Epoch 31: val_accuracy did not improve from 0.96721\n",
      "8/8 [==============================] - 3s 381ms/step - loss: 0.0169 - accuracy: 0.9960 - val_loss: 0.1000 - val_accuracy: 0.9508 - lr: 6.2500e-05\n",
      "Epoch 32/40\n",
      "8/8 [==============================] - ETA: 0s - loss: 0.0178 - accuracy: 0.9941\n",
      "Epoch 32: val_accuracy did not improve from 0.96721\n",
      "\n",
      "Epoch 32: ReduceLROnPlateau reducing learning rate to 3.125000148429535e-05.\n",
      "8/8 [==============================] - 3s 387ms/step - loss: 0.0178 - accuracy: 0.9941 - val_loss: 0.1004 - val_accuracy: 0.9508 - lr: 6.2500e-05\n",
      "Epoch 33/40\n",
      "8/8 [==============================] - ETA: 0s - loss: 0.0149 - accuracy: 0.9941\n",
      "Epoch 33: val_accuracy did not improve from 0.96721\n",
      "8/8 [==============================] - 3s 384ms/step - loss: 0.0149 - accuracy: 0.9941 - val_loss: 0.1005 - val_accuracy: 0.9508 - lr: 3.1250e-05\n",
      "Epoch 34/40\n",
      "8/8 [==============================] - ETA: 0s - loss: 0.0150 - accuracy: 0.9960\n",
      "Epoch 34: val_accuracy did not improve from 0.96721\n",
      "8/8 [==============================] - 3s 394ms/step - loss: 0.0150 - accuracy: 0.9960 - val_loss: 0.1007 - val_accuracy: 0.9508 - lr: 3.1250e-05\n",
      "Epoch 35/40\n",
      "8/8 [==============================] - ETA: 0s - loss: 0.0137 - accuracy: 0.9960\n",
      "Epoch 35: val_accuracy did not improve from 0.96721\n",
      "8/8 [==============================] - 3s 389ms/step - loss: 0.0137 - accuracy: 0.9960 - val_loss: 0.1007 - val_accuracy: 0.9508 - lr: 3.1250e-05\n",
      "Epoch 36/40\n",
      "8/8 [==============================] - ETA: 0s - loss: 0.0140 - accuracy: 0.9921\n",
      "Epoch 36: val_accuracy did not improve from 0.96721\n",
      "\n",
      "Epoch 36: ReduceLROnPlateau reducing learning rate to 1.5625000742147677e-05.\n",
      "8/8 [==============================] - 3s 382ms/step - loss: 0.0140 - accuracy: 0.9921 - val_loss: 0.1008 - val_accuracy: 0.9508 - lr: 3.1250e-05\n",
      "Epoch 37/40\n",
      "8/8 [==============================] - ETA: 0s - loss: 0.0171 - accuracy: 0.9941\n",
      "Epoch 37: val_accuracy did not improve from 0.96721\n",
      "8/8 [==============================] - 3s 384ms/step - loss: 0.0171 - accuracy: 0.9941 - val_loss: 0.1009 - val_accuracy: 0.9508 - lr: 1.5625e-05\n",
      "Epoch 38/40\n",
      "8/8 [==============================] - ETA: 0s - loss: 0.0127 - accuracy: 0.9921\n",
      "Epoch 38: val_accuracy did not improve from 0.96721\n",
      "8/8 [==============================] - 3s 384ms/step - loss: 0.0127 - accuracy: 0.9921 - val_loss: 0.1010 - val_accuracy: 0.9508 - lr: 1.5625e-05\n",
      "Epoch 39/40\n",
      "8/8 [==============================] - ETA: 0s - loss: 0.0155 - accuracy: 0.9941\n",
      "Epoch 39: val_accuracy did not improve from 0.96721\n",
      "8/8 [==============================] - 3s 386ms/step - loss: 0.0155 - accuracy: 0.9941 - val_loss: 0.1010 - val_accuracy: 0.9508 - lr: 1.5625e-05\n",
      "Epoch 40/40\n",
      "8/8 [==============================] - ETA: 0s - loss: 0.0143 - accuracy: 0.9921\n",
      "Epoch 40: val_accuracy did not improve from 0.96721\n",
      "\n",
      "Epoch 40: ReduceLROnPlateau reducing learning rate to 1e-05.\n",
      "8/8 [==============================] - 3s 388ms/step - loss: 0.0143 - accuracy: 0.9921 - val_loss: 0.1011 - val_accuracy: 0.9508 - lr: 1.5625e-05\n",
      "2/2 [==============================] - 0s 105ms/step - loss: 0.1674 - accuracy: 0.9180\n",
      "Test Accuracy: 91.80%\n"
     ]
    }
   ],
   "source": [
    "# Train the model using sentence-split and padded data\n",
    "history = model.fit(\n",
    "    X_train_pad,\n",
    "    expanded_y_train,\n",
    "    validation_data=(X_val_pad, y_val),\n",
    "    epochs=40,\n",
    "    batch_size=64,\n",
    "    class_weight=class_weights,\n",
    "    callbacks=[checkpoint, reduce_lr]\n",
    ")"
   ]
  },
  {
   "cell_type": "markdown",
   "id": "d4136acd-ec76-4cae-837c-39854f50f5d9",
   "metadata": {},
   "source": [
    "#  Evaluating on test data\n",
    "\n",
    "After training, the best-performing model weights (saved automatically by the `ModelCheckpoint` callback based on highest validation accuracy) were loaded using `model.load_weights('RNN_best_weights.h5')`. This ensures that the evaluation is done using the most optimal version of the model, rather than the final training state. The model was then evaluated on the test set to assess its performance on unseen data. This final test accuracy provides an unbiased measure of how well the model is expected to generalize in real-world scenarios. In this case, the model achieved a strong test accuracy of 91.80%."
   ]
  },
  {
   "cell_type": "code",
   "execution_count": 46,
   "id": "00b768ca-c2fb-45b9-8341-5929b1003f5a",
   "metadata": {},
   "outputs": [
    {
     "name": "stdout",
     "output_type": "stream",
     "text": [
      "2/2 [==============================] - 0s 119ms/step - loss: 0.1674 - accuracy: 0.9180\n",
      "Test Accuracy: 91.80%\n"
     ]
    }
   ],
   "source": [
    "# Load the best saved model\n",
    "model.load_weights('RNN_best_weights.h5')\n",
    "\n",
    "# Evaluate the best model on the test set\n",
    "loss, accuracy = model.evaluate(X_test_pad, y_test, verbose=1)\n",
    "print(f\"Test Accuracy: {accuracy * 100:.2f}%\")"
   ]
  },
  {
   "cell_type": "markdown",
   "id": "344384e3-28bb-4dab-a245-0c7c905c0126",
   "metadata": {},
   "source": [
    "# Visualising results"
   ]
  },
  {
   "cell_type": "markdown",
   "id": "4d20ba09-e3aa-4a0e-981f-9e9085183a9c",
   "metadata": {},
   "source": [
    "###  Training and Validation Performance Analysis\n",
    "\n",
    "The accuracy and loss curves demonstrate that the model has learned effectively and generalizes well to unseen data. As shown in the left plot, training accuracy steadily increases and quickly converges near 100%, while validation accuracy stabilizes just below it, around 93%, indicating strong generalization without overfitting. The right plot shows a consistent downward trend in both training and validation loss, with occasional minor fluctuations. Importantly, the final test accuracy and loss (shown as red dashed lines) align closely with the validation curves, confirming that the model performs reliably on new data. This is especially meaningful in this context, where the data is imbalanced and sentence-level, yet the model maintains performance across all sets, justifying the architectural choices and regularization applied.\n"
   ]
  },
  {
   "cell_type": "code",
   "execution_count": 45,
   "id": "bab15595-b631-4057-bc13-88bf71e659d2",
   "metadata": {},
   "outputs": [
    {
     "data": {
      "image/png": "[encoded data removed]",
      "text/plain": [
       "<Figure size 1200x500 with 2 Axes>"
      ]
     },
     "metadata": {},
     "output_type": "display_data"
    }
   ],
   "source": [
    "# Plot Accuracy\n",
    "plt.figure(figsize=(12, 5))\n",
    "\n",
    "plt.subplot(1, 2, 1)\n",
    "plt.plot(history.history['accuracy'], label='Train Accuracy')\n",
    "plt.plot(history.history['val_accuracy'], label='Validation Accuracy')\n",
    "plt.axhline(y=accuracy, color='r', linestyle='--', label='Test Accuracy')\n",
    "plt.title('Epoch vs Accuracy')\n",
    "plt.xlabel('Epoch')\n",
    "plt.ylabel('Accuracy')\n",
    "plt.legend()\n",
    "\n",
    "# Plot Loss\n",
    "plt.subplot(1, 2, 2)\n",
    "plt.plot(history.history['loss'], label='Train Loss')\n",
    "plt.plot(history.history['val_loss'], label='Validation Loss')\n",
    "plt.axhline(y=loss, color='r', linestyle='--', label='Test Loss')\n",
    "plt.title('Epoch vs Loss')\n",
    "plt.xlabel('Epoch')\n",
    "plt.ylabel('Loss')\n",
    "plt.legend()\n",
    "\n",
    "plt.tight_layout()\n",
    "plt.show()"
   ]
  },
  {
   "cell_type": "markdown",
   "id": "10c89cda-8e65-4bb5-9fb5-4e57a175603e",
   "metadata": {},
   "source": [
    "###  Confusion Matrix Analysis\n",
    "\n",
    "The confusion matrix provides a clear breakdown of how well the model distinguishes between the two sentiment classes: Good (0) and Bad (1). The model correctly classified 43 out of 46 \"Good\" reviews and 13 out of 15 \"Bad\" reviews, indicating strong performance on both classes. Only 5 total misclassifications occurred, suggesting that the model generalizes well without favoring the majority class excessively. This balance is especially important given the dataset's class imbalance, and confirms the effectiveness of using class weights and sentence-level training to enhance prediction quality."
   ]
  },
  {
   "cell_type": "code",
   "execution_count": 47,
   "id": "8c97bb5e-868d-432d-b42c-82b32487edd3",
   "metadata": {},
   "outputs": [
    {
     "name": "stdout",
     "output_type": "stream",
     "text": [
      "2/2 [==============================] - 2s 89ms/step\n"
     ]
    },
    {
     "data": {
      "image/png": "[encoded data removed]",
      "text/plain": [
       "<Figure size 640x480 with 2 Axes>"
      ]
     },
     "metadata": {},
     "output_type": "display_data"
    }
   ],
   "source": [
    "# Get predictions from the model\n",
    "y_pred_probs = model.predict(X_test_pad)\n",
    "y_pred = (y_pred_probs > 0.5).astype(int).flatten()  # convert to 0/1\n",
    "\n",
    "# Confusion matrix\n",
    "cm = confusion_matrix(y_test, y_pred)\n",
    "disp = ConfusionMatrixDisplay(confusion_matrix=cm, display_labels=[\"Good (0)\", \"Bad (1)\"])\n",
    "disp.plot(cmap='Blues')\n",
    "plt.title(\"Confusion Matrix\")\n",
    "plt.show()"
   ]
  },
  {
   "cell_type": "markdown",
   "id": "0ee8fe30-046d-4bab-bc54-d25e1820785d",
   "metadata": {},
   "source": [
    "###  Classification Report Summary\n",
    "\n",
    "The classification report provides detailed insights into the model’s performance across both sentiment classes. For the \"Good\" class, the model achieved a high precision of 0.96 and an F1-score of 0.95, showing that it accurately identifies positive reviews while minimizing false positives. The \"Bad\" class, despite having fewer examples, was still classified effectively with a precision of 0.81 and a recall of 0.87. This balance across classes is reflected in the macro average F1-score of 0.89 and an overall accuracy of 92%. These results confirm that the model performs reliably on both majority and minority classes, thanks to sentence-level augmentation and the use of class weighting during training."
   ]
  },
  {
   "cell_type": "code",
   "execution_count": 48,
   "id": "d83f28d3-5797-4444-9677-ce7a82caa462",
   "metadata": {},
   "outputs": [
    {
     "name": "stdout",
     "output_type": "stream",
     "text": [
      "              precision    recall  f1-score   support\n",
      "\n",
      "        Good       0.96      0.93      0.95        46\n",
      "         Bad       0.81      0.87      0.84        15\n",
      "\n",
      "    accuracy                           0.92        61\n",
      "   macro avg       0.88      0.90      0.89        61\n",
      "weighted avg       0.92      0.92      0.92        61\n",
      "\n"
     ]
    }
   ],
   "source": [
    "print(classification_report(y_test, y_pred, target_names=[\"Good\", \"Bad\"]))"
   ]
  },
  {
   "cell_type": "markdown",
   "id": "bb421983-cdcc-4239-8582-2eafef5e9993",
   "metadata": {},
   "source": [
    "### ROC Curve and AUC Analysis\n",
    "\n",
    "The Receiver Operating Characteristic (ROC) curve visualizes the trade-off between the true positive rate (sensitivity) and the false positive rate for different classification thresholds. In this case, the ROC curve shows a strong upward curve toward the top-left corner, indicating excellent model performance. The Area Under the Curve (AUC) is **0.98**, which reflects a very high level of separability between the \"Good\" and \"Bad\" classes. This means the model is highly capable of distinguishing between the two classes, even under different threshold settings, making it a reliable and well-calibrated binary classifier.\n"
   ]
  },
  {
   "cell_type": "code",
   "execution_count": 51,
   "id": "1bcff450-0ee8-4d39-b51c-1ef85a78109b",
   "metadata": {},
   "outputs": [
    {
     "name": "stdout",
     "output_type": "stream",
     "text": [
      "2/2 [==============================] - 0s 181ms/step\n"
     ]
    },
    {
     "data": {
      "image/png": "[encoded data removed]",
      "text/plain": [
       "<Figure size 600x600 with 1 Axes>"
      ]
     },
     "metadata": {},
     "output_type": "display_data"
    }
   ],
   "source": [
    "# Get predicted probabilities for the positive class\n",
    "y_pred_probs = model.predict(X_test_pad).flatten()  # Shape (n_samples,)\n",
    "\n",
    "# Compute False Positive Rate, True Positive Rate, and thresholds\n",
    "fpr, tpr, thresholds = roc_curve(y_test, y_pred_probs)\n",
    "roc_auc = auc(fpr, tpr)\n",
    "\n",
    "# Plot ROC curve\n",
    "plt.figure(figsize=(6, 6))\n",
    "plt.plot(fpr, tpr, label=f'ROC Curve (AUC = {roc_auc:.2f})')\n",
    "plt.plot([0, 1], [0, 1], 'k--', label='Random Guess')\n",
    "plt.xlabel('False Positive Rate')\n",
    "plt.ylabel('True Positive Rate')\n",
    "plt.title('Receiver Operating Characteristic (ROC) Curve')\n",
    "plt.legend(loc='lower right')\n",
    "plt.grid(True)\n",
    "plt.show()"
   ]
  }
 ],
 "metadata": {
  "kernelspec": {
   "display_name": "Python 3 (ipykernel)",
   "language": "python",
   "name": "python3"
  },
  "language_info": {
   "codemirror_mode": {
    "name": "ipython",
    "version": 3
   },
   "file_extension": ".py",
   "mimetype": "text/x-python",
   "name": "python",
   "nbconvert_exporter": "python",
   "pygments_lexer": "ipython3",
   "version": "3.12.4"
  }
 },
 "nbformat": 4,
 "nbformat_minor": 5
}
